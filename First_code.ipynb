{
  "nbformat": 4,
  "nbformat_minor": 0,
  "metadata": {
    "colab": {
      "provenance": [],
      "authorship_tag": "ABX9TyMPXggd1+JaKERkneMTEfR9",
      "include_colab_link": true
    },
    "kernelspec": {
      "name": "python3",
      "display_name": "Python 3"
    },
    "language_info": {
      "name": "python"
    }
  },
  "cells": [
    {
      "cell_type": "markdown",
      "metadata": {
        "id": "view-in-github",
        "colab_type": "text"
      },
      "source": [
        "<a href=\"https://colab.research.google.com/github/wonchanhee/LifeCode/blob/main/First_code.ipynb\" target=\"_parent\"><img src=\"https://colab.research.google.com/assets/colab-badge.svg\" alt=\"Open In Colab\"/></a>"
      ]
    },
    {
      "cell_type": "markdown",
      "source": [
        "나의 첫번째 코드"
      ],
      "metadata": {
        "id": "8gRShDMVzwg3"
      }
    },
    {
      "cell_type": "markdown",
      "source": [],
      "metadata": {
        "id": "cU0kyio-0GtO"
      }
    },
    {
      "cell_type": "code",
      "source": [
        "name = \"wonchanhee\";\n",
        "print(name)"
      ],
      "metadata": {
        "colab": {
          "base_uri": "https://localhost:8080/"
        },
        "id": "MfzP3EwP0J6e",
        "outputId": "a2c8ce0a-23b4-488f-bb13-dba0dcdfec98"
      },
      "execution_count": 14,
      "outputs": [
        {
          "output_type": "stream",
          "name": "stdout",
          "text": [
            "'wonchanhee'\n"
          ]
        }
      ]
    },
    {
      "cell_type": "markdown",
      "source": [
        "코딩 2번째 ,hello world! 만들기"
      ],
      "metadata": {
        "id": "m22cEfLj2-jW"
      }
    },
    {
      "cell_type": "code",
      "source": [
        "print(\"Hello World!\");"
      ],
      "metadata": {
        "colab": {
          "base_uri": "https://localhost:8080/"
        },
        "id": "3QeaVSrz3Iaw",
        "outputId": "fe25c227-11ac-4663-9eca-cbfd8f5e6806"
      },
      "execution_count": 16,
      "outputs": [
        {
          "output_type": "stream",
          "name": "stdout",
          "text": [
            "Hello World!\n"
          ]
        }
      ]
    },
    {
      "cell_type": "code",
      "source": [],
      "metadata": {
        "id": "0MKcaucP7DkF"
      },
      "execution_count": null,
      "outputs": []
    }
  ]
}